{
 "cells": [
  {
   "cell_type": "markdown",
   "id": "elementary-husband",
   "metadata": {},
   "source": [
    "### Environment Setup"
   ]
  },
  {
   "cell_type": "code",
   "execution_count": null,
   "id": "latter-blade",
   "metadata": {},
   "outputs": [],
   "source": [
    "import datetime\n",
    "\n",
    "import tensorflow as tf\n",
    "from tensorflow.keras.preprocessing.image import ImageDataGenerator\n",
    "from tensorflow.keras.models import Model, load_model\n",
    "from tensorflow.keras.layers import Input, Flatten, Dense, Dropout, GlobalAveragePooling2D\n",
    "from tensorflow.keras.applications.mobilenet import MobileNet, preprocess_input\n",
    "\n",
    "%load_ext tensorboard"
   ]
  },
  {
   "cell_type": "markdown",
   "id": "alert-palestinian",
   "metadata": {},
   "source": [
    "### Ingest, Image Preprocessing and Augmentation"
   ]
  },
  {
   "cell_type": "code",
   "execution_count": null,
   "id": "final-explosion",
   "metadata": {},
   "outputs": [],
   "source": [
    "train_data_dir = \"./dataset/mushie_image_data/\"\n",
    "num_classes = 2\n",
    "img_width, img_height = 224, 224\n",
    "classes = ['poisonous', 'edible']\n",
    "batch_size = 40\n",
    "\n",
    "# NOTE: our model will have a single output node\n",
    "# This means that an output of '0' means a prediction of poisonous,\n",
    "# And an output of '1' means a prediction of edible\n",
    "# To flip this, change the order of the classes above"
   ]
  },
  {
   "cell_type": "code",
   "execution_count": null,
   "id": "retained-greenhouse",
   "metadata": {},
   "outputs": [],
   "source": [
    "# Define image augmentation methods here\n",
    "# As well as the train/validation split (thanks Keras for adding that feature!)\n",
    "train_datagen = ImageDataGenerator(\n",
    "    preprocessing_function=preprocess_input,\n",
    "    rotation_range=20,\n",
    "    shear_range=0.2,\n",
    "    zoom_range=0.2,\n",
    "    width_shift_range=0.2,\n",
    "    height_shift_range=0.2,\n",
    "    horizontal_flip=True,\n",
    "    validation_split=0.2)\n",
    "\n",
    "train_generator = train_datagen.flow_from_directory(\n",
    "    train_data_dir,\n",
    "    target_size=(img_height, img_width),\n",
    "    batch_size=batch_size,\n",
    "    classes = classes,\n",
    "    class_mode='binary',\n",
    "    subset='training')\n",
    "\n",
    "validation_generator = train_datagen.flow_from_directory(\n",
    "    train_data_dir,\n",
    "    target_size=(img_height, img_width),\n",
    "    batch_size=batch_size,\n",
    "    classes = classes,\n",
    "    class_mode='binary',\n",
    "    subset='validation')"
   ]
  },
  {
   "cell_type": "code",
   "execution_count": null,
   "id": "exact-douglas",
   "metadata": {},
   "outputs": [],
   "source": [
    "### Modeling Setup"
   ]
  },
  {
   "cell_type": "code",
   "execution_count": null,
   "id": "unlikely-allah",
   "metadata": {},
   "outputs": [],
   "source": [
    "# Build the model using various pre-trained models as a base\n",
    "# And train the bottom few layers via transfer learning\n",
    "def model_maker(base_model, img_width, img_height):\n",
    "    #freeze the highest layers\n",
    "    for layer in base_model.layers[:]:\n",
    "        layer.trainable = False\n",
    "        \n",
    "    input = Input(shape=(img_width, img_height, 3))\n",
    "    custom_model = base_model(input)\n",
    "    custom_model = GlobalAveragePooling2D()(custom_model)\n",
    "    custom_model = Dense(64, activation='relu')(custom_model)\n",
    "    custom_model = Dropout(0.5)(custom_model)\n",
    "    predictions = Dense(1, activation='softmax')(custom_model)\n",
    "    \n",
    "    return Model(inputs=input, outputs=predictions)"
   ]
  },
  {
   "cell_type": "code",
   "execution_count": null,
   "id": "operating-account",
   "metadata": {},
   "outputs": [],
   "source": [
    "# Choose and instantiate the pre-trained model we want to try\n",
    "mobile_net = MobileNet(include_top=False, input_shape=(img_width, img_height, 3))"
   ]
  },
  {
   "cell_type": "code",
   "execution_count": null,
   "id": "automatic-wireless",
   "metadata": {},
   "outputs": [],
   "source": [
    "model = model_maker(mobile_net, img_width, img_height)"
   ]
  },
  {
   "cell_type": "code",
   "execution_count": null,
   "id": "optimum-graduation",
   "metadata": {
    "jupyter": {
     "source_hidden": true
    }
   },
   "outputs": [],
   "source": [
    "#use this if you want to continue training a saved model\n",
    "#model = load_model('./mushie_model.h5')"
   ]
  },
  {
   "cell_type": "markdown",
   "id": "balanced-cincinnati",
   "metadata": {},
   "source": [
    "##### Optional Callbacks"
   ]
  },
  {
   "cell_type": "code",
   "execution_count": null,
   "id": "premium-kenya",
   "metadata": {
    "jupyter": {
     "source_hidden": true
    }
   },
   "outputs": [],
   "source": [
    "# To enable tensorboard fun\n",
    "\n",
    "# Clear any logs from previous runs\n",
    "!rm -rf ./logs/ \n",
    "log_dir = \"logs/fit/\" + datetime.datetime.now().strftime(\"%Y%m%d-%H%M%S\")\n",
    "tensorboard_cb = tf.keras.callbacks.TensorBoard(log_dir=log_dir, histogram_freq=1)"
   ]
  },
  {
   "cell_type": "code",
   "execution_count": null,
   "id": "engaging-supplement",
   "metadata": {
    "jupyter": {
     "source_hidden": true
    }
   },
   "outputs": [],
   "source": [
    "#enable early stopping\n",
    "es = tf.keras.callbacks.EarlyStopping(\n",
    "                                 monitor='val_loss',\n",
    "                                 patience=4,\n",
    "                                 mode='auto',\n",
    "                                 baseline=None,\n",
    "                                 restore_best_weights=True\n",
    "                                )"
   ]
  },
  {
   "cell_type": "markdown",
   "id": "sufficient-distance",
   "metadata": {},
   "source": [
    "### Training"
   ]
  },
  {
   "cell_type": "code",
   "execution_count": null,
   "id": "distinct-buying",
   "metadata": {},
   "outputs": [],
   "source": [
    "#compile and train the model\n",
    "model.compile(loss='binary_crossentropy',\n",
    "              optimizer=tf.keras.optimizers.Adam(0.001),\n",
    "              metrics=['acc'])"
   ]
  },
  {
   "cell_type": "code",
   "execution_count": null,
   "id": "technological-cooper",
   "metadata": {},
   "outputs": [],
   "source": [
    "epochs = 5\n",
    "model.fit(train_generator,\n",
    "          epochs = epochs,\n",
    "          steps_per_epoch = train_generator.samples // batch_size,\n",
    "          validation_data=validation_generator,\n",
    "          validation_steps = validation_generator.samples // batch_size,\n",
    "          callbacks=[tensorboard_cb, es]\n",
    "         )"
   ]
  },
  {
   "cell_type": "markdown",
   "id": "committed-burke",
   "metadata": {},
   "source": [
    "### Tensorboard Evaluation"
   ]
  },
  {
   "cell_type": "code",
   "execution_count": null,
   "id": "republican-administrator",
   "metadata": {},
   "outputs": [],
   "source": [
    "%tensorboard --logdir logs/fit"
   ]
  }
 ],
 "metadata": {
  "celltoolbar": "Raw Cell Format",
  "kernelspec": {
   "display_name": "Python 3",
   "language": "python",
   "name": "python3"
  },
  "language_info": {
   "codemirror_mode": {
    "name": "ipython",
    "version": 3
   },
   "file_extension": ".py",
   "mimetype": "text/x-python",
   "name": "python",
   "nbconvert_exporter": "python",
   "pygments_lexer": "ipython3",
   "version": "3.8.7"
  }
 },
 "nbformat": 4,
 "nbformat_minor": 5
}
