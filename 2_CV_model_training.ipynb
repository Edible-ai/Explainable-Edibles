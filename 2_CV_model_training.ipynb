{
 "cells": [
  {
   "cell_type": "markdown",
   "id": "checked-saturn",
   "metadata": {},
   "source": [
    "### Environment Setup"
   ]
  },
  {
   "cell_type": "code",
   "execution_count": null,
   "id": "clinical-istanbul",
   "metadata": {},
   "outputs": [],
   "source": [
    "import datetime\n",
    "\n",
    "import tensorflow as tf\n",
    "from tensorflow.keras.preprocessing.image import ImageDataGenerator, img_to_array\n",
    "from tensorflow.keras.models import Model, load_model, Sequential\n",
    "from tensorflow.keras.layers import Input, Flatten, Dense, Dropout, GlobalAveragePooling2D, BatchNormalization\n",
    "from tensorflow.keras.applications import MobileNetV2\n",
    "\n",
    "%load_ext tensorboard"
   ]
  },
  {
   "cell_type": "markdown",
   "id": "basic-motel",
   "metadata": {},
   "source": [
    "### Ingest, Image Preprocessing and Augmentation"
   ]
  },
  {
   "cell_type": "code",
   "execution_count": null,
   "id": "experienced-johns",
   "metadata": {},
   "outputs": [],
   "source": [
    "train_data_dir = \"../../Google Drive/My Drive/498/Project/mushie_image_data/\"\n",
    "num_classes = 2\n",
    "img_width, img_height = 224, 224\n",
    "classes = ['poisonous', 'edible']\n",
    "batch_size = 32\n",
    "\n",
    "# NOTE: our model will have a single output node\n",
    "# This means that an output of '0' means a prediction of poisonous,\n",
    "# And an output of '1' means a prediction of edible\n",
    "# To flip this, change the order of the classes above"
   ]
  },
  {
   "cell_type": "code",
   "execution_count": null,
   "id": "adapted-birth",
   "metadata": {},
   "outputs": [],
   "source": [
    "# Define image augmentation methods here\n",
    "# As well as the train/validation split (thanks Keras for adding that feature!)\n",
    "train_datagen = ImageDataGenerator(\n",
    "    rescale=1./255,\n",
    "    shear_range=0.2,\n",
    "    zoom_range=0.2,\n",
    "    width_shift_range=0.2,\n",
    "    height_shift_range=0.2,\n",
    "    horizontal_flip=True,\n",
    "    validation_split=0.2)\n",
    "\n",
    "print(\"Training set:\")\n",
    "train_generator = train_datagen.flow_from_directory(\n",
    "    train_data_dir,\n",
    "    target_size=(img_height, img_width),\n",
    "    batch_size=batch_size,\n",
    "    classes = classes,\n",
    "    shuffle=True,\n",
    "    class_mode='binary',\n",
    "    subset='training')\n",
    "\n",
    "print(\"Validation set:\")\n",
    "validation_generator = train_datagen.flow_from_directory(\n",
    "    train_data_dir,\n",
    "    target_size=(img_height, img_width),\n",
    "    batch_size=batch_size,\n",
    "    classes = classes,\n",
    "    class_mode='binary',\n",
    "    subset='validation')"
   ]
  },
  {
   "cell_type": "code",
   "execution_count": null,
   "id": "usual-silver",
   "metadata": {},
   "outputs": [],
   "source": [
    "### Modeling Setup"
   ]
  },
  {
   "cell_type": "code",
   "execution_count": null,
   "id": "latest-mountain",
   "metadata": {},
   "outputs": [],
   "source": [
    "base_model = MobileNetV2(include_top=False, weights='imagenet', input_shape=(img_width, img_height, 3))"
   ]
  },
  {
   "cell_type": "code",
   "execution_count": null,
   "id": "photographic-criminal",
   "metadata": {},
   "outputs": [],
   "source": [
    "print(\"These layers will be set to untrainable: \")\n",
    "for layer in base_model.layers[:-11]:\n",
    "    layer.trainable = False\n",
    "    print(layer.name)"
   ]
  },
  {
   "cell_type": "code",
   "execution_count": null,
   "id": "designing-capacity",
   "metadata": {},
   "outputs": [],
   "source": [
    "# Now we set the highest convolution block to trainable\n",
    "# But make sure to not allow any BatchNorm layers be trainable\n",
    "# https://keras.io/guides/transfer_learning/#finetuning\n",
    "for layer in base_model.layers[-11:]:\n",
    "    if \"BN\" not in layer.name and \"bn\" not in layer.name:\n",
    "        layer.trainable = True\n",
    "        print(\"\\033[93m Trainable: \", layer.name, \"\\033[0m\")\n",
    "    else:\n",
    "        layer.trainable = False\n",
    "        print(\"Untrainable: \", layer.name)"
   ]
  },
  {
   "cell_type": "code",
   "execution_count": null,
   "id": "choice-involvement",
   "metadata": {},
   "outputs": [],
   "source": [
    "# Add in new top layers\n",
    "# With a sigmoid output node (so we can do binary classification)\n",
    "x = GlobalAveragePooling2D()(base_model.output)\n",
    "x = Dense(64, activation='relu')(x)\n",
    "x = Dropout(0.2)(x)\n",
    "x = Dense(1, activation='sigmoid')(x)\n",
    "\n",
    "model = Model(inputs=base_model.input, outputs=x)\n",
    "model.summary()"
   ]
  },
  {
   "cell_type": "markdown",
   "id": "occupational-efficiency",
   "metadata": {},
   "source": [
    "### Tensorboard Evaluation"
   ]
  },
  {
   "cell_type": "code",
   "execution_count": null,
   "id": "smoking-spider",
   "metadata": {},
   "outputs": [],
   "source": [
    "# To launch tensorboard, run this cell\n",
    "# Enable auto-reloading in the settings menu (it looks like a gear)\n",
    "!rm -rf ./logs/ \n",
    "log_dir = \"logs/fit/\" + datetime.datetime.now().strftime(\"%Y%m%d-%H%M%S\")\n",
    "tensorboard_cb = tf.keras.callbacks.TensorBoard(log_dir=log_dir, histogram_freq=1)\n",
    "\n",
    "%tensorboard --logdir logs"
   ]
  },
  {
   "cell_type": "markdown",
   "id": "secret-history",
   "metadata": {},
   "source": [
    "### Training"
   ]
  },
  {
   "cell_type": "code",
   "execution_count": null,
   "id": "abstract-somerset",
   "metadata": {},
   "outputs": [],
   "source": [
    "save_checkpoints = tf.keras.callbacks.ModelCheckpoint(\n",
    "    filepath='./tmp/checkpoint',\n",
    "    save_weights_only=True,\n",
    "    monitor='val_acc',\n",
    "    mode='max',\n",
    "    save_best_only=True)"
   ]
  },
  {
   "cell_type": "code",
   "execution_count": null,
   "id": "solar-exclusive",
   "metadata": {},
   "outputs": [],
   "source": [
    "#enable early stopping\n",
    "es = tf.keras.callbacks.EarlyStopping(\n",
    "                                 monitor='val_acc',\n",
    "                                 patience=5,\n",
    "                                 mode='auto',\n",
    "                                 baseline=None,\n",
    "                                 restore_best_weights=True\n",
    "                                )"
   ]
  },
  {
   "cell_type": "code",
   "execution_count": null,
   "id": "confidential-valentine",
   "metadata": {},
   "outputs": [],
   "source": [
    "#compile and train the model\n",
    "model.compile(loss='binary_crossentropy',\n",
    "              optimizer=tf.keras.optimizers.Adagrad(),\n",
    "              metrics=['acc', 'AUC'])"
   ]
  },
  {
   "cell_type": "code",
   "execution_count": null,
   "id": "narrow-working",
   "metadata": {},
   "outputs": [],
   "source": [
    "EPOCHS = 10\n",
    "model.fit(train_generator,\n",
    "          epochs = EPOCHS,\n",
    "          steps_per_epoch = train_generator.samples // batch_size,\n",
    "          validation_data=validation_generator,\n",
    "          validation_steps = validation_generator.samples // batch_size,\n",
    "          callbacks=[tensorboard_cb, save_checkpoints]\n",
    "         )"
   ]
  },
  {
   "cell_type": "code",
   "execution_count": null,
   "id": "pending-profile",
   "metadata": {},
   "outputs": [],
   "source": [
    "model.save('saved_model/mushie_mobilenet_partial.h5')"
   ]
  },
  {
   "cell_type": "markdown",
   "id": "requested-marijuana",
   "metadata": {},
   "source": [
    "### Fine-Tuning"
   ]
  },
  {
   "cell_type": "code",
   "execution_count": null,
   "id": "accomplished-stake",
   "metadata": {},
   "outputs": [],
   "source": [
    "# Unfreeze all the layers to do some fine-tuning\n",
    "for layer in model.layers:\n",
    "    # But make sure to not allow any BatchNorm layers be trainable\n",
    "    # https://keras.io/guides/transfer_learning/#finetuning\n",
    "    if \"BN\" not in layer.name and \"bn\" not in layer.name:\n",
    "        layer.trainable = True\n",
    "        print(\"Trainable: \", layer.name)\n",
    "    else:\n",
    "        layer.trainable = False\n",
    "        print(\"\\033[93m Untrainable: \", layer.name, \"\\033[0m\")"
   ]
  },
  {
   "cell_type": "code",
   "execution_count": null,
   "id": "hybrid-baltimore",
   "metadata": {},
   "outputs": [],
   "source": [
    "model.summary()"
   ]
  },
  {
   "cell_type": "code",
   "execution_count": null,
   "id": "electric-danger",
   "metadata": {},
   "outputs": [],
   "source": [
    "# Compile the model to learn at an extremely slow rate\n",
    "model.compile(loss='binary_crossentropy',\n",
    "              optimizer=tf.keras.optimizers.Adagrad(1e-5),\n",
    "              metrics=['acc', 'AUC'])"
   ]
  },
  {
   "cell_type": "code",
   "execution_count": null,
   "id": "narrative-marks",
   "metadata": {},
   "outputs": [],
   "source": [
    "EPOCHS = 5\n",
    "model.fit(train_generator,\n",
    "          epochs = EPOCHS,\n",
    "          steps_per_epoch = train_generator.samples // batch_size,\n",
    "          validation_data=validation_generator,\n",
    "          validation_steps = validation_generator.samples // batch_size\n",
    "         )"
   ]
  },
  {
   "cell_type": "code",
   "execution_count": null,
   "id": "solid-cherry",
   "metadata": {},
   "outputs": [],
   "source": [
    "model.save('saved_model/mushie_mobilenet_finetuned.h5')"
   ]
  },
  {
   "cell_type": "code",
   "execution_count": null,
   "id": "wanted-casting",
   "metadata": {},
   "outputs": [],
   "source": []
  }
 ],
 "metadata": {
  "celltoolbar": "Raw Cell Format",
  "kernelspec": {
   "display_name": "Python 3",
   "language": "python",
   "name": "python3"
  },
  "language_info": {
   "codemirror_mode": {
    "name": "ipython",
    "version": 3
   },
   "file_extension": ".py",
   "mimetype": "text/x-python",
   "name": "python",
   "nbconvert_exporter": "python",
   "pygments_lexer": "ipython3",
   "version": "3.8.7"
  }
 },
 "nbformat": 4,
 "nbformat_minor": 5
}
